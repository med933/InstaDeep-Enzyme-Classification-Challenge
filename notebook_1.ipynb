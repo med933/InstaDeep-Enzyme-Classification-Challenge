{
  "nbformat": 4,
  "nbformat_minor": 0,
  "metadata": {
    "colab": {
      "name": "Untitled2.ipynb",
      "provenance": [],
      "collapsed_sections": [],
      "toc_visible": true
    },
    "kernelspec": {
      "name": "python3",
      "display_name": "Python 3"
    },
    "accelerator": "GPU"
  },
  "cells": [
    {
      "cell_type": "code",
      "metadata": {
        "id": "EnsON4OfTN-w"
      },
      "source": [
        ""
      ],
      "execution_count": null,
      "outputs": []
    },
    {
      "cell_type": "code",
      "metadata": {
        "colab": {
          "base_uri": "https://localhost:8080/",
          "height": 34
        },
        "id": "rPkBW8qDTTgN",
        "outputId": "5083c6fa-76e5-4188-96d3-86ffea842630"
      },
      "source": [
        "import tensorflow as tf\r\n",
        "print(tf.__version__)\r\n",
        "import numpy as np \r\n",
        "import pandas as pd \r\n",
        "import joblib\r\n",
        "import cufflinks as cf\r\n",
        "import plotly.graph_objs as go\r\n",
        "import seaborn as sns\r\n",
        "import matplotlib.pyplot as plt\r\n",
        "\r\n",
        "cf.go_offline()\r\n",
        "cf.set_config_file(offline=False, world_readable=True)\r\n",
        "\r\n"
      ],
      "execution_count": 1,
      "outputs": [
        {
          "output_type": "stream",
          "text": [
            "2.4.1\n"
          ],
          "name": "stdout"
        },
        {
          "output_type": "display_data",
          "data": {
            "text/html": [
              "        <script type=\"text/javascript\">\n",
              "        window.PlotlyConfig = {MathJaxConfig: 'local'};\n",
              "        if (window.MathJax) {MathJax.Hub.Config({SVG: {font: \"STIX-Web\"}});}\n",
              "        if (typeof require !== 'undefined') {\n",
              "        require.undef(\"plotly\");\n",
              "        requirejs.config({\n",
              "            paths: {\n",
              "                'plotly': ['https://cdn.plot.ly/plotly-latest.min']\n",
              "            }\n",
              "        });\n",
              "        require(['plotly'], function(Plotly) {\n",
              "            window._Plotly = Plotly;\n",
              "        });\n",
              "        }\n",
              "        </script>\n",
              "        "
            ]
          },
          "metadata": {
            "tags": []
          }
        }
      ]
    },
    {
      "cell_type": "code",
      "metadata": {
        "id": "5Yu8bgyNTTm3"
      },
      "source": [
        "with open('/content/drive/MyDrive/data/Enzyme Classification/Train.csv', 'r', encoding='utf-8') as f:\r\n",
        "    train = pd.read_csv(f, sep=';|\"', engine='python').dropna(how='all', axis=1)\r\n",
        "with open('/content/drive/MyDrive/data/Enzyme Classification/Test.csv', 'r', encoding='utf-8') as f:\r\n",
        "    test = pd.read_csv(f, sep=',', engine='python').dropna(how='all', axis=1)\r\n",
        "with open('/content/drive/MyDrive/data/Enzyme Classification/SampleSubmission.csv', 'r', encoding='utf-8') as f:\r\n",
        "    sub = pd.read_csv(f, sep=',', engine='python').dropna(how='all', axis=1)"
      ],
      "execution_count": 2,
      "outputs": []
    },
    {
      "cell_type": "code",
      "metadata": {
        "id": "mDZVN5Y6TTqQ"
      },
      "source": [
        "classmap = {\r\n",
        "    \"class0\" : 0,\r\n",
        "    \"class1\" : 1,\r\n",
        "    \"class2\" : 2,\r\n",
        "    \"class3\" : 3,\r\n",
        "    \"class4\" : 4,\r\n",
        "    \"class5\" : 5,\r\n",
        "    \"class6\" : 6,\r\n",
        "    \"class7\" : 7,\r\n",
        "    \"class8\" : 8,\r\n",
        "    \"class9\" : 9,\r\n",
        "    \"class10\" : 10,\r\n",
        "    \"class11\" : 11,\r\n",
        "    \"class12\" : 12,\r\n",
        "    \"class13\" : 13,\r\n",
        "    \"class14\" : 14,\r\n",
        "    \"class15\" : 15,\r\n",
        "    \"class16\" : 16,\r\n",
        "    \"class17\" : 17,\r\n",
        "    \"class18\" : 18,\r\n",
        "    \"class19\" : 19\r\n",
        "}\r\n",
        "\r\n",
        "creaturemap = {\r\n",
        "    \"creature0\" : 0,\r\n",
        "    \"creature1\" : 1,\r\n",
        "    \"creature2\" : 2,\r\n",
        "    \"creature3\" : 3,\r\n",
        "    \"creature4\" : 4,\r\n",
        "    \"creature5\" : 5,\r\n",
        "    \"creature6\" : 6,\r\n",
        "    \"creature7\" : 7,\r\n",
        "    \"creature8\" : 8,\r\n",
        "    \"creature9\" : 9\r\n",
        "}"
      ],
      "execution_count": 3,
      "outputs": []
    },
    {
      "cell_type": "code",
      "metadata": {
        "colab": {
          "base_uri": "https://localhost:8080/",
          "height": 204
        },
        "id": "xKK0qEk4TTtn",
        "outputId": "f6f7d40c-6af0-4c6b-f45f-e14970d9f843"
      },
      "source": [
        "train.loc[:,\"LABEL\"] = train.LABEL.map(classmap)\r\n",
        "train.loc[:,\"CREATURE\"] = train.CREATURE.map(creaturemap)\r\n",
        "train.head(5)"
      ],
      "execution_count": 4,
      "outputs": [
        {
          "output_type": "execute_result",
          "data": {
            "text/html": [
              "<div>\n",
              "<style scoped>\n",
              "    .dataframe tbody tr th:only-of-type {\n",
              "        vertical-align: middle;\n",
              "    }\n",
              "\n",
              "    .dataframe tbody tr th {\n",
              "        vertical-align: top;\n",
              "    }\n",
              "\n",
              "    .dataframe thead th {\n",
              "        text-align: right;\n",
              "    }\n",
              "</style>\n",
              "<table border=\"1\" class=\"dataframe\">\n",
              "  <thead>\n",
              "    <tr style=\"text-align: right;\">\n",
              "      <th></th>\n",
              "      <th>SEQUENCE_ID</th>\n",
              "      <th>SEQUENCE</th>\n",
              "      <th>CREATURE</th>\n",
              "      <th>LABEL</th>\n",
              "    </tr>\n",
              "  </thead>\n",
              "  <tbody>\n",
              "    <tr>\n",
              "      <th>0</th>\n",
              "      <td>00011UBJ</td>\n",
              "      <td>MPWQELSITVPHEYVEPISYLFGRYGKGVSTELAGNGQVLLRTYLT...</td>\n",
              "      <td>9</td>\n",
              "      <td>11</td>\n",
              "    </tr>\n",
              "    <tr>\n",
              "      <th>1</th>\n",
              "      <td>0001HZ3P</td>\n",
              "      <td>MGKLVIGSRGSELALWQANHIKERLKKECLIESEIQIVKTKGDKIL...</td>\n",
              "      <td>3</td>\n",
              "      <td>13</td>\n",
              "    </tr>\n",
              "    <tr>\n",
              "      <th>2</th>\n",
              "      <td>0003NJDO</td>\n",
              "      <td>MFIVAVLMLAFLIFVHELGHFTIARICGVKVEVFSIGFGKKLCFFK...</td>\n",
              "      <td>3</td>\n",
              "      <td>16</td>\n",
              "    </tr>\n",
              "    <tr>\n",
              "      <th>3</th>\n",
              "      <td>0003XVE3</td>\n",
              "      <td>MKNTSLSTTLTMNDTIAAIATPLGKGAISIIKISGHNALNILKQLT...</td>\n",
              "      <td>3</td>\n",
              "      <td>12</td>\n",
              "    </tr>\n",
              "    <tr>\n",
              "      <th>4</th>\n",
              "      <td>00049BS0</td>\n",
              "      <td>MGNRLTKIYTKTGDSGLTGLADGSRTEKDSLRIFVIGDVDELNSLL...</td>\n",
              "      <td>8</td>\n",
              "      <td>13</td>\n",
              "    </tr>\n",
              "  </tbody>\n",
              "</table>\n",
              "</div>"
            ],
            "text/plain": [
              "  SEQUENCE_ID  ... LABEL\n",
              "0    00011UBJ  ...    11\n",
              "1    0001HZ3P  ...    13\n",
              "2    0003NJDO  ...    16\n",
              "3    0003XVE3  ...    12\n",
              "4    00049BS0  ...    13\n",
              "\n",
              "[5 rows x 4 columns]"
            ]
          },
          "metadata": {
            "tags": []
          },
          "execution_count": 4
        }
      ]
    },
    {
      "cell_type": "code",
      "metadata": {
        "id": "qgmI_WaATTwt"
      },
      "source": [
        "import tensorflow as tf\r\n",
        "from tensorflow import keras\r\n",
        "from tensorflow.keras.preprocessing.text import Tokenizer\r\n",
        "from tensorflow.keras.preprocessing.sequence import pad_sequences\r\n",
        "import json"
      ],
      "execution_count": 5,
      "outputs": []
    },
    {
      "cell_type": "code",
      "metadata": {
        "id": "rQWRqHo0LNf2"
      },
      "source": [
        "BUFFER_SIZE = 10000\r\n",
        "BATCH_SIZE = 32\r\n",
        "LR = 0.001"
      ],
      "execution_count": 6,
      "outputs": []
    },
    {
      "cell_type": "code",
      "metadata": {
        "colab": {
          "base_uri": "https://localhost:8080/"
        },
        "id": "o57K8Q5sLNiw",
        "outputId": "ec9ac107-41bc-40f8-f1b2-99093ee856ad"
      },
      "source": [
        "vocab_size = 24\r\n",
        "embedding_dim = 64\r\n",
        "max_length = 500\r\n",
        "trunc_type='post'\r\n",
        "padding_type='post'\r\n",
        "oov_tok = \"<OOV>\"\r\n",
        "Filters='!\"#$%&()*+,-./:;<=>?@[\\\\]^_`{|}~\\t\\n'\r\n",
        "training_size = int(len(train)*0.8)\r\n",
        "print(\"training_size = \",training_size)\r\n",
        "print(\"testing_size  = \",len(train) - training_size)"
      ],
      "execution_count": 7,
      "outputs": [
        {
          "output_type": "stream",
          "text": [
            "training_size =  687021\n",
            "testing_size  =  171756\n"
          ],
          "name": "stdout"
        }
      ]
    },
    {
      "cell_type": "code",
      "metadata": {
        "id": "VTU_58kmLNmE"
      },
      "source": [
        "training_sentences = train.iloc[0:training_size,1].values\r\n",
        "testing_sentences = train.iloc[training_size:,1].values\r\n",
        "training_labels = train.iloc[0:training_size,3].values\r\n",
        "testing_labels = train.iloc[training_size:,3].values"
      ],
      "execution_count": 8,
      "outputs": []
    },
    {
      "cell_type": "code",
      "metadata": {
        "id": "vcy_D7WULNpL"
      },
      "source": [
        "tokenizer = Tokenizer(num_words=vocab_size,filters='!\"#$%&()*+,-./:;<=>?@[\\\\]^_`{|}~\\t\\n', oov_token=oov_tok,lower=False, char_level=True)\r\n",
        "tokenizer.fit_on_texts(training_sentences)\r\n",
        "word_index = tokenizer.word_index\r\n",
        "\r\n",
        "training_sequences = tokenizer.texts_to_sequences(training_sentences)\r\n",
        "training_padded = pad_sequences(training_sequences, maxlen=max_length, padding=padding_type, truncating=trunc_type)\r\n",
        "\r\n",
        "testing_sequences = tokenizer.texts_to_sequences(testing_sentences)\r\n",
        "testing_padded = pad_sequences(testing_sequences, maxlen=max_length, padding=padding_type, truncating=trunc_type)"
      ],
      "execution_count": 9,
      "outputs": []
    },
    {
      "cell_type": "code",
      "metadata": {
        "id": "D4rVoSxPLNsZ"
      },
      "source": [
        "# Need this block to get it to work with TensorFlow 2.x\r\n",
        "training_padded = np.array(training_padded)\r\n",
        "training_labels = np.array(training_labels)\r\n",
        "testing_padded = np.array(testing_padded)\r\n",
        "testing_labels = np.array(testing_labels)"
      ],
      "execution_count": 10,
      "outputs": []
    },
    {
      "cell_type": "code",
      "metadata": {
        "id": "x7qfLq5VLNvt"
      },
      "source": [
        "# CONVERT TO TF DATASETS\r\n",
        "\r\n",
        "train_dataset = tf.data.Dataset.from_tensor_slices((training_padded,training_labels))\r\n",
        "test_dataset = tf.data.Dataset.from_tensor_slices((testing_padded,testing_labels))\r\n",
        "\r\n",
        "train_dataset = train_dataset.shuffle(BUFFER_SIZE)\r\n",
        "train_dataset = train_dataset.padded_batch(BATCH_SIZE, tf.compat.v1.data.get_output_shapes(train_dataset))\r\n",
        "test_dataset = test_dataset.padded_batch(BATCH_SIZE, tf.compat.v1.data.get_output_shapes(test_dataset))"
      ],
      "execution_count": 11,
      "outputs": []
    },
    {
      "cell_type": "code",
      "metadata": {
        "id": "MzctJXjMLNza"
      },
      "source": [
        "from keras.callbacks import EarlyStopping, ModelCheckpoint, ReduceLROnPlateau\r\n",
        "\r\n",
        "# Save the model with the minimum validation loss\r\n",
        "# https://www.tensorflow.org/api_docs/python/tf/keras/callbacks/ModelCheckpoint\r\n",
        "EarlyStopping_cb = EarlyStopping(monitor='val_loss', mode='min', patience=4,restore_best_weights=True, verbose=1)\r\n",
        "\r\n",
        "# Save best model\r\n",
        "Checkpoint_cb = ModelCheckpoint(\"best_model.h5\",save_best_only=True,monitor='val_loss',mode='min')\r\n",
        "    \r\n",
        "# Reduce learning rate once learning stagnates\r\n",
        "# https://www.tensorflow.org/api_docs/python/tf/keras/callbacks/ReduceLROnPlateau\r\n",
        "Reduce_lr = ReduceLROnPlateau(monitor='val_loss',factor=0.2,patience=2,min_lr=1e-6,mode='min',verbose=1)\r\n",
        "\r\n",
        "\r\n",
        "\r\n",
        "AdamOptimizer = tf.keras.optimizers.Adam(learning_rate = LR)\r\n",
        "RMSpropOptimizer = tf.keras.optimizers.RMSprop(learning_rate = LR)\r\n",
        "SGDOptimizer = tf.keras.optimizers.SGD(learning_rate = LR)\r\n",
        "AdagradOptimizer = tf.keras.optimizers.Adagrad(learning_rate = LR)"
      ],
      "execution_count": 12,
      "outputs": []
    },
    {
      "cell_type": "code",
      "metadata": {
        "colab": {
          "base_uri": "https://localhost:8080/"
        },
        "id": "uusuHkgiLN2U",
        "outputId": "006d6968-bc0c-453a-b456-f3650cfae9ba"
      },
      "source": [
        "model = tf.keras.Sequential([\r\n",
        "    tf.keras.layers.Embedding(vocab_size, embedding_dim, input_length=max_length),\r\n",
        "    tf.keras.layers.Bidirectional(tf.keras.layers.LSTM(64, dropout=0.1,return_sequences=True)),\r\n",
        "    tf.keras.layers.Bidirectional(tf.keras.layers.LSTM(32,dropout=0.1)),\r\n",
        "    tf.keras.layers.Dense(20, activation='softmax')\r\n",
        "])\r\n",
        "model.compile(loss='sparse_categorical_crossentropy',optimizer=AdamOptimizer,metrics=['accuracy'])\r\n",
        "model.summary()"
      ],
      "execution_count": 15,
      "outputs": [
        {
          "output_type": "stream",
          "text": [
            "Model: \"sequential_1\"\n",
            "_________________________________________________________________\n",
            "Layer (type)                 Output Shape              Param #   \n",
            "=================================================================\n",
            "embedding_1 (Embedding)      (None, 500, 64)           1536      \n",
            "_________________________________________________________________\n",
            "bidirectional_2 (Bidirection (None, 500, 128)          66048     \n",
            "_________________________________________________________________\n",
            "bidirectional_3 (Bidirection (None, 64)                41216     \n",
            "_________________________________________________________________\n",
            "dense_1 (Dense)              (None, 20)                1300      \n",
            "=================================================================\n",
            "Total params: 110,100\n",
            "Trainable params: 110,100\n",
            "Non-trainable params: 0\n",
            "_________________________________________________________________\n"
          ],
          "name": "stdout"
        }
      ]
    },
    {
      "cell_type": "code",
      "metadata": {
        "colab": {
          "base_uri": "https://localhost:8080/"
        },
        "id": "NFPIjpWVMIhE",
        "outputId": "234919df-6bb5-41b3-9a2f-ed5b5d7d3460"
      },
      "source": [
        "num_epochs = 25\r\n",
        "history = model.fit(train_dataset, epochs=num_epochs, validation_data=test_dataset, callbacks=[EarlyStopping_cb, Checkpoint_cb, Reduce_lr])"
      ],
      "execution_count": null,
      "outputs": [
        {
          "output_type": "stream",
          "text": [
            "Epoch 1/25\n",
            "21470/21470 [==============================] - 1506s 70ms/step - loss: 1.8934 - accuracy: 0.4379 - val_loss: 0.8183 - val_accuracy: 0.7720\n",
            "Epoch 2/25\n",
            "21470/21470 [==============================] - 1491s 69ms/step - loss: 0.7599 - accuracy: 0.7901 - val_loss: 0.5056 - val_accuracy: 0.8615\n",
            "Epoch 3/25\n",
            "10997/21470 [==============>...............] - ETA: 11:06 - loss: 0.5215 - accuracy: 0.8573"
          ],
          "name": "stdout"
        }
      ]
    },
    {
      "cell_type": "code",
      "metadata": {
        "id": "FcP46VGdMIkk"
      },
      "source": [
        "import matplotlib.pyplot as plt\r\n",
        "\r\n",
        "def plot_graphs(history, string):\r\n",
        "    plt.plot(history.history[string])\r\n",
        "    plt.plot(history.history['val_'+string])\r\n",
        "    plt.xlabel(\"Epochs\")\r\n",
        "    plt.ylabel(string)\r\n",
        "    plt.legend([string, 'val_'+string])\r\n",
        "    plt.show()"
      ],
      "execution_count": null,
      "outputs": []
    },
    {
      "cell_type": "code",
      "metadata": {
        "id": "Q28JTSeCMInf"
      },
      "source": [
        "plot_graphs(history, 'accuracy')"
      ],
      "execution_count": null,
      "outputs": []
    },
    {
      "cell_type": "code",
      "metadata": {
        "id": "7nTDo0iqMIrE"
      },
      "source": [
        "plot_graphs(history, 'loss')"
      ],
      "execution_count": null,
      "outputs": []
    },
    {
      "cell_type": "code",
      "metadata": {
        "id": "yrZIhiExMIua"
      },
      "source": [
        "sentence = test.SEQUENCE.values\r\n",
        "sequences = tokenizer.texts_to_sequences(sentence)\r\n",
        "padded = pad_sequences(sequences, maxlen=max_length, padding=padding_type, truncating=trunc_type)\r\n",
        "\r\n",
        "padded_sub = np.array(padded)"
      ],
      "execution_count": null,
      "outputs": []
    },
    {
      "cell_type": "code",
      "metadata": {
        "id": "cTRwp4pcMIxv"
      },
      "source": [
        "preds = model.predict(padded_sub)"
      ],
      "execution_count": null,
      "outputs": []
    },
    {
      "cell_type": "code",
      "metadata": {
        "id": "FGGKj6n_Z_Gr"
      },
      "source": [
        "pred_valid_y_labels = np.argmax(preds, axis=-1)\r\n",
        "pred_valid_y_labels"
      ],
      "execution_count": null,
      "outputs": []
    },
    {
      "cell_type": "code",
      "metadata": {
        "id": "HDxN4J1ZZ4kH"
      },
      "source": [
        "sub[\"LABEL\"] = pred_valid_y_labels\r\n",
        "inv_map = {v: k for k, v in classmap.items()}\r\n",
        "sub.loc[:,\"LABEL\"] = sub.LABEL.map(inv_map)"
      ],
      "execution_count": null,
      "outputs": []
    },
    {
      "cell_type": "code",
      "metadata": {
        "id": "gzIZqx6IMehJ"
      },
      "source": [
        "sub.to_csv(\"sub1.csv\", index=False)"
      ],
      "execution_count": null,
      "outputs": []
    },
    {
      "cell_type": "code",
      "metadata": {
        "id": "5XDpD8ImaR02"
      },
      "source": [
        "sub['LABEL'].value_counts(normalize=True).iplot(kind='bar',yTitle='Class', linecolor='black', opacity=0.7,color='red',theme='pearl',\r\n",
        "                                                  bargap=0.6,gridcolor='white',title='Distribution of label column in the training set')"
      ],
      "execution_count": null,
      "outputs": []
    },
    {
      "cell_type": "code",
      "metadata": {
        "id": "CPSdl7H9awa6"
      },
      "source": [
        "plt.hist(pred_valid_y_labels,bins=20)"
      ],
      "execution_count": null,
      "outputs": []
    },
    {
      "cell_type": "code",
      "metadata": {
        "id": "xap6Y3mvaR3y"
      },
      "source": [
        ""
      ],
      "execution_count": null,
      "outputs": []
    }
  ]
}